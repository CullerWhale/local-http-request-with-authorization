{
 "cells": [
  {
   "cell_type": "markdown",
   "metadata": {},
   "source": [
    "I'm trying to query the passport /oauth/clients endpoint from my backend php and I am using this code: "
   ]
  },
  {
   "cell_type": "code",
   "execution_count": null,
   "metadata": {},
   "outputs": [],
   "source": [
    "$response = Http::get(config('app.url') .'/oauth/clients');"
   ]
  },
  {
   "cell_type": "markdown",
   "metadata": {},
   "source": [
    "Where my app.url is set to http://homestead.test (for development purposes). If I navigate to that endpoint in my browser I get an array of clients as expected but as soon as I try to do this query from my backend and then dump the body like this dd($response->body()); it just returns my website login page.\n",
    "\n",
    "I'm assuming this is due to the session not being passed correctly as a header but if I dump $response->headers() I get a Set-Cookie header with my app session there.\n",
    "\n",
    "I am currently using this code to get the clients array and it works, but I think it isn't the best way to get the array as it messes up the Route"
   ]
  },
  {
   "cell_type": "code",
   "execution_count": null,
   "metadata": {},
   "outputs": [],
   "source": [
    "$clientRequest = Request::create(config('app.url') .'/oauth/clients');\n",
    "$response = Route::dispatch($clientRequest);\n",
    "\n",
    "$clients = json_decode($response->getContent(), true);"
   ]
  }
 ],
 "metadata": {
  "kernelspec": {
   "display_name": "Python 3",
   "language": "python",
   "name": "python3"
  },
  "language_info": {
   "codemirror_mode": {
    "name": "ipython",
    "version": 3
   },
   "file_extension": ".py",
   "mimetype": "text/x-python",
   "name": "python",
   "nbconvert_exporter": "python",
   "pygments_lexer": "ipython3",
   "version": "3.8.6"
  }
 },
 "nbformat": 4,
 "nbformat_minor": 4
}
